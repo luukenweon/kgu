{
 "cells": [
  {
   "cell_type": "markdown",
   "id": "319b6959",
   "metadata": {},
   "source": [
    "\n",
    "# 논문 통계 분석 ipynb 템플릿 (쉬운 설명 버전)\n",
    "작성일: 2025-09-29 15:09\n",
    "\n",
    "이 노트북은 **연구 가설 → 데이터 불러오기 → 정리(결측치) → 기초분석 → 가설검정 → 회귀모형 → 효과크기 → 검정력(power) → 결과표 저장** 순서로 진행합니다.\n",
    "\n",
    "실습 데이터: `example_data_ko.csv` (가짜 데이터)\n",
    "- 열 설명:  \n",
    "  - `sex`: 성별(F/M)  \n",
    "  - `group`: 집단(control/treat)  \n",
    "  - `age`: 나이  \n",
    "  - `pre`: 사전 점수  \n",
    "  - `post`: 사후 점수  \n",
    "  - `passed`: 합격 여부(0/1)\n"
   ]
  },
  {
   "cell_type": "markdown",
   "id": "7dd40317",
   "metadata": {},
   "source": [
    "## 0. 준비하기(재현성 설정)"
   ]
  },
  {
   "cell_type": "code",
   "execution_count": 20,
   "id": "007f7ddc",
   "metadata": {},
   "outputs": [],
   "source": [
    "\n",
    "# 이 셀은 결과를 다시 실행해도 비슷한 값이 나오게 해줍니다.\n",
    "import numpy as np, pandas as pd\n",
    "np.random.seed(7)  # 숫자를 바꾸면 무작위 값이 달라집니다.\n",
    "pd.set_option('display.max_columns', 50)\n"
   ]
  },
  {
   "cell_type": "markdown",
   "id": "0d7d3619",
   "metadata": {},
   "source": [
    "## 1. 연구 질문과 가설 정리"
   ]
  },
  {
   "cell_type": "markdown",
   "id": "c529d5e9",
   "metadata": {},
   "source": [
    "\n",
    "- 연구 질문(RQ): **처치 집단(treat)은 통제 집단(control)보다 사후 점수(post)가 높은가?**\n",
    "- 귀무가설(H0): 두 집단의 평균 사후 점수는 **차이가 없다**.\n",
    "- 대립가설(H1): 두 집단의 평균 사후 점수는 **차이가 있다**.  \n",
    "- 유의수준(α): 0.05\n"
   ]
  },
  {
   "cell_type": "markdown",
   "id": "8211acae",
   "metadata": {},
   "source": [
    "## 2. 데이터 불러오기와 첫 확인"
   ]
  },
  {
   "cell_type": "code",
   "execution_count": 21,
   "id": "1cc56767",
   "metadata": {},
   "outputs": [
    {
     "data": {
      "text/html": [
       "<div>\n",
       "<style scoped>\n",
       "    .dataframe tbody tr th:only-of-type {\n",
       "        vertical-align: middle;\n",
       "    }\n",
       "\n",
       "    .dataframe tbody tr th {\n",
       "        vertical-align: top;\n",
       "    }\n",
       "\n",
       "    .dataframe thead th {\n",
       "        text-align: right;\n",
       "    }\n",
       "</style>\n",
       "<table border=\"1\" class=\"dataframe\">\n",
       "  <thead>\n",
       "    <tr style=\"text-align: right;\">\n",
       "      <th></th>\n",
       "      <th>sex</th>\n",
       "      <th>group</th>\n",
       "      <th>age</th>\n",
       "      <th>pre</th>\n",
       "      <th>post</th>\n",
       "      <th>passed</th>\n",
       "    </tr>\n",
       "  </thead>\n",
       "  <tbody>\n",
       "    <tr>\n",
       "      <th>0</th>\n",
       "      <td>F</td>\n",
       "      <td>treat</td>\n",
       "      <td>28.9</td>\n",
       "      <td>47.8</td>\n",
       "      <td>57.0</td>\n",
       "      <td>0</td>\n",
       "    </tr>\n",
       "    <tr>\n",
       "      <th>1</th>\n",
       "      <td>M</td>\n",
       "      <td>control</td>\n",
       "      <td>23.8</td>\n",
       "      <td>42.5</td>\n",
       "      <td>52.4</td>\n",
       "      <td>0</td>\n",
       "    </tr>\n",
       "    <tr>\n",
       "      <th>2</th>\n",
       "      <td>F</td>\n",
       "      <td>treat</td>\n",
       "      <td>29.3</td>\n",
       "      <td>75.2</td>\n",
       "      <td>77.9</td>\n",
       "      <td>1</td>\n",
       "    </tr>\n",
       "    <tr>\n",
       "      <th>3</th>\n",
       "      <td>M</td>\n",
       "      <td>control</td>\n",
       "      <td>30.7</td>\n",
       "      <td>57.6</td>\n",
       "      <td>66.4</td>\n",
       "      <td>0</td>\n",
       "    </tr>\n",
       "    <tr>\n",
       "      <th>4</th>\n",
       "      <td>M</td>\n",
       "      <td>control</td>\n",
       "      <td>24.4</td>\n",
       "      <td>50.1</td>\n",
       "      <td>57.0</td>\n",
       "      <td>0</td>\n",
       "    </tr>\n",
       "  </tbody>\n",
       "</table>\n",
       "</div>"
      ],
      "text/plain": [
       "  sex    group   age   pre  post  passed\n",
       "0   F    treat  28.9  47.8  57.0       0\n",
       "1   M  control  23.8  42.5  52.4       0\n",
       "2   F    treat  29.3  75.2  77.9       1\n",
       "3   M  control  30.7  57.6  66.4       0\n",
       "4   M  control  24.4  50.1  57.0       0"
      ]
     },
     "execution_count": 21,
     "metadata": {},
     "output_type": "execute_result"
    }
   ],
   "source": [
    "\n",
    "# CSV 파일을 불러옵니다.\n",
    "import pandas as pd\n",
    "df = pd.read_csv(\"example_data_ko.csv\")\n",
    "# 앞부분 5행만 간단히 봅니다.\n",
    "df.head()\n"
   ]
  },
  {
   "cell_type": "code",
   "execution_count": 22,
   "id": "30ef0a93",
   "metadata": {},
   "outputs": [
    {
     "name": "stdout",
     "output_type": "stream",
     "text": [
      "<class 'pandas.core.frame.DataFrame'>\n",
      "RangeIndex: 240 entries, 0 to 239\n",
      "Data columns (total 6 columns):\n",
      " #   Column  Non-Null Count  Dtype  \n",
      "---  ------  --------------  -----  \n",
      " 0   sex     240 non-null    object \n",
      " 1   group   240 non-null    object \n",
      " 2   age     230 non-null    float64\n",
      " 3   pre     231 non-null    float64\n",
      " 4   post    232 non-null    float64\n",
      " 5   passed  240 non-null    int64  \n",
      "dtypes: float64(3), int64(1), object(2)\n",
      "memory usage: 11.4+ KB\n"
     ]
    }
   ],
   "source": [
    "\n",
    "# 데이터 구조(열 이름, 자료형, 결측치 개요)를 확인합니다.\n",
    "df.info()\n"
   ]
  },
  {
   "cell_type": "markdown",
   "id": "2927e628",
   "metadata": {},
   "source": [
    "## 3. 결측치(빈칸) 확인과 처리 계획"
   ]
  },
  {
   "cell_type": "code",
   "execution_count": 23,
   "id": "a60c04fa",
   "metadata": {},
   "outputs": [
    {
     "data": {
      "text/html": [
       "<div>\n",
       "<style scoped>\n",
       "    .dataframe tbody tr th:only-of-type {\n",
       "        vertical-align: middle;\n",
       "    }\n",
       "\n",
       "    .dataframe tbody tr th {\n",
       "        vertical-align: top;\n",
       "    }\n",
       "\n",
       "    .dataframe thead th {\n",
       "        text-align: right;\n",
       "    }\n",
       "</style>\n",
       "<table border=\"1\" class=\"dataframe\">\n",
       "  <thead>\n",
       "    <tr style=\"text-align: right;\">\n",
       "      <th></th>\n",
       "      <th>missing_rate</th>\n",
       "    </tr>\n",
       "  </thead>\n",
       "  <tbody>\n",
       "    <tr>\n",
       "      <th>sex</th>\n",
       "      <td>0.000000</td>\n",
       "    </tr>\n",
       "    <tr>\n",
       "      <th>group</th>\n",
       "      <td>0.000000</td>\n",
       "    </tr>\n",
       "    <tr>\n",
       "      <th>age</th>\n",
       "      <td>0.041667</td>\n",
       "    </tr>\n",
       "    <tr>\n",
       "      <th>pre</th>\n",
       "      <td>0.037500</td>\n",
       "    </tr>\n",
       "    <tr>\n",
       "      <th>post</th>\n",
       "      <td>0.033333</td>\n",
       "    </tr>\n",
       "    <tr>\n",
       "      <th>passed</th>\n",
       "      <td>0.000000</td>\n",
       "    </tr>\n",
       "  </tbody>\n",
       "</table>\n",
       "</div>"
      ],
      "text/plain": [
       "        missing_rate\n",
       "sex         0.000000\n",
       "group       0.000000\n",
       "age         0.041667\n",
       "pre         0.037500\n",
       "post        0.033333\n",
       "passed      0.000000"
      ]
     },
     "execution_count": 23,
     "metadata": {},
     "output_type": "execute_result"
    }
   ],
   "source": [
    "\n",
    "# 각 열별 결측치 비율을 확인합니다.\n",
    "df.isna().mean().to_frame('missing_rate')\n"
   ]
  },
  {
   "cell_type": "code",
   "execution_count": 24,
   "id": "c955e55c",
   "metadata": {},
   "outputs": [
    {
     "data": {
      "text/html": [
       "<div>\n",
       "<style scoped>\n",
       "    .dataframe tbody tr th:only-of-type {\n",
       "        vertical-align: middle;\n",
       "    }\n",
       "\n",
       "    .dataframe tbody tr th {\n",
       "        vertical-align: top;\n",
       "    }\n",
       "\n",
       "    .dataframe thead th {\n",
       "        text-align: right;\n",
       "    }\n",
       "</style>\n",
       "<table border=\"1\" class=\"dataframe\">\n",
       "  <thead>\n",
       "    <tr style=\"text-align: right;\">\n",
       "      <th></th>\n",
       "      <th>n_missing_after_impute</th>\n",
       "    </tr>\n",
       "  </thead>\n",
       "  <tbody>\n",
       "    <tr>\n",
       "      <th>sex</th>\n",
       "      <td>0</td>\n",
       "    </tr>\n",
       "    <tr>\n",
       "      <th>group</th>\n",
       "      <td>0</td>\n",
       "    </tr>\n",
       "    <tr>\n",
       "      <th>age</th>\n",
       "      <td>0</td>\n",
       "    </tr>\n",
       "    <tr>\n",
       "      <th>pre</th>\n",
       "      <td>0</td>\n",
       "    </tr>\n",
       "    <tr>\n",
       "      <th>post</th>\n",
       "      <td>0</td>\n",
       "    </tr>\n",
       "    <tr>\n",
       "      <th>passed</th>\n",
       "      <td>0</td>\n",
       "    </tr>\n",
       "  </tbody>\n",
       "</table>\n",
       "</div>"
      ],
      "text/plain": [
       "        n_missing_after_impute\n",
       "sex                          0\n",
       "group                        0\n",
       "age                          0\n",
       "pre                          0\n",
       "post                         0\n",
       "passed                       0"
      ]
     },
     "execution_count": 24,
     "metadata": {},
     "output_type": "execute_result"
    }
   ],
   "source": [
    "\n",
    "# 간단한 처리 방법: 숫자열은 평균으로, 문자/범주형은 가장 많이 나온 값으로 채우기\n",
    "from sklearn.impute import SimpleImputer\n",
    "\n",
    "num_cols = ['age','pre','post']   # 숫자열 목록\n",
    "cat_cols = ['sex','group']        # 범주형(문자) 열 목록\n",
    "\n",
    "num_imp = SimpleImputer(strategy='mean')            # 평균 대체\n",
    "cat_imp = SimpleImputer(strategy='most_frequent')   # 최빈값 대체\n",
    "\n",
    "df_imp = df.copy()\n",
    "df_imp[num_cols] = num_imp.fit_transform(df_imp[num_cols])\n",
    "df_imp[cat_cols] = cat_imp.fit_transform(df_imp[cat_cols])\n",
    "\n",
    "# 결측치가 잘 채워졌는지 다시 확인\n",
    "df_imp.isna().sum().to_frame('n_missing_after_impute')\n"
   ]
  },
  {
   "cell_type": "markdown",
   "id": "be73099e",
   "metadata": {},
   "source": [
    "## 4. 기초 통계와 간단 시각화"
   ]
  },
  {
   "cell_type": "code",
   "execution_count": 25,
   "id": "2ed58697",
   "metadata": {},
   "outputs": [
    {
     "data": {
      "text/html": [
       "<div>\n",
       "<style scoped>\n",
       "    .dataframe tbody tr th:only-of-type {\n",
       "        vertical-align: middle;\n",
       "    }\n",
       "\n",
       "    .dataframe tbody tr th {\n",
       "        vertical-align: top;\n",
       "    }\n",
       "\n",
       "    .dataframe thead th {\n",
       "        text-align: right;\n",
       "    }\n",
       "</style>\n",
       "<table border=\"1\" class=\"dataframe\">\n",
       "  <thead>\n",
       "    <tr style=\"text-align: right;\">\n",
       "      <th></th>\n",
       "      <th>count</th>\n",
       "      <th>unique</th>\n",
       "      <th>top</th>\n",
       "      <th>freq</th>\n",
       "      <th>mean</th>\n",
       "      <th>std</th>\n",
       "      <th>min</th>\n",
       "      <th>25%</th>\n",
       "      <th>50%</th>\n",
       "      <th>75%</th>\n",
       "      <th>max</th>\n",
       "    </tr>\n",
       "  </thead>\n",
       "  <tbody>\n",
       "    <tr>\n",
       "      <th>sex</th>\n",
       "      <td>240</td>\n",
       "      <td>2</td>\n",
       "      <td>F</td>\n",
       "      <td>125</td>\n",
       "      <td>NaN</td>\n",
       "      <td>NaN</td>\n",
       "      <td>NaN</td>\n",
       "      <td>NaN</td>\n",
       "      <td>NaN</td>\n",
       "      <td>NaN</td>\n",
       "      <td>NaN</td>\n",
       "    </tr>\n",
       "    <tr>\n",
       "      <th>group</th>\n",
       "      <td>240</td>\n",
       "      <td>2</td>\n",
       "      <td>control</td>\n",
       "      <td>140</td>\n",
       "      <td>NaN</td>\n",
       "      <td>NaN</td>\n",
       "      <td>NaN</td>\n",
       "      <td>NaN</td>\n",
       "      <td>NaN</td>\n",
       "      <td>NaN</td>\n",
       "      <td>NaN</td>\n",
       "    </tr>\n",
       "    <tr>\n",
       "      <th>age</th>\n",
       "      <td>240.0</td>\n",
       "      <td>NaN</td>\n",
       "      <td>NaN</td>\n",
       "      <td>NaN</td>\n",
       "      <td>26.344783</td>\n",
       "      <td>4.168556</td>\n",
       "      <td>13.9</td>\n",
       "      <td>23.8</td>\n",
       "      <td>26.344783</td>\n",
       "      <td>29.025</td>\n",
       "      <td>38.8</td>\n",
       "    </tr>\n",
       "    <tr>\n",
       "      <th>pre</th>\n",
       "      <td>240.0</td>\n",
       "      <td>NaN</td>\n",
       "      <td>NaN</td>\n",
       "      <td>NaN</td>\n",
       "      <td>59.617316</td>\n",
       "      <td>9.353211</td>\n",
       "      <td>31.5</td>\n",
       "      <td>53.15</td>\n",
       "      <td>59.617316</td>\n",
       "      <td>66.075</td>\n",
       "      <td>83.9</td>\n",
       "    </tr>\n",
       "    <tr>\n",
       "      <th>post</th>\n",
       "      <td>240.0</td>\n",
       "      <td>NaN</td>\n",
       "      <td>NaN</td>\n",
       "      <td>NaN</td>\n",
       "      <td>64.611638</td>\n",
       "      <td>11.440923</td>\n",
       "      <td>31.8</td>\n",
       "      <td>57.0</td>\n",
       "      <td>64.611638</td>\n",
       "      <td>71.325</td>\n",
       "      <td>92.7</td>\n",
       "    </tr>\n",
       "    <tr>\n",
       "      <th>passed</th>\n",
       "      <td>240.0</td>\n",
       "      <td>NaN</td>\n",
       "      <td>NaN</td>\n",
       "      <td>NaN</td>\n",
       "      <td>0.304167</td>\n",
       "      <td>0.461015</td>\n",
       "      <td>0.0</td>\n",
       "      <td>0.0</td>\n",
       "      <td>0.0</td>\n",
       "      <td>1.0</td>\n",
       "      <td>1.0</td>\n",
       "    </tr>\n",
       "  </tbody>\n",
       "</table>\n",
       "</div>"
      ],
      "text/plain": [
       "        count unique      top freq       mean        std   min    25%  \\\n",
       "sex       240      2        F  125        NaN        NaN   NaN    NaN   \n",
       "group     240      2  control  140        NaN        NaN   NaN    NaN   \n",
       "age     240.0    NaN      NaN  NaN  26.344783   4.168556  13.9   23.8   \n",
       "pre     240.0    NaN      NaN  NaN  59.617316   9.353211  31.5  53.15   \n",
       "post    240.0    NaN      NaN  NaN  64.611638  11.440923  31.8   57.0   \n",
       "passed  240.0    NaN      NaN  NaN   0.304167   0.461015   0.0    0.0   \n",
       "\n",
       "              50%     75%   max  \n",
       "sex           NaN     NaN   NaN  \n",
       "group         NaN     NaN   NaN  \n",
       "age     26.344783  29.025  38.8  \n",
       "pre     59.617316  66.075  83.9  \n",
       "post    64.611638  71.325  92.7  \n",
       "passed        0.0     1.0   1.0  "
      ]
     },
     "execution_count": 25,
     "metadata": {},
     "output_type": "execute_result"
    }
   ],
   "source": [
    "\n",
    "# 숫자열의 평균, 표준편차 등 기본 통계를 봅니다.\n",
    "df_imp.describe(include='all').T\n"
   ]
  },
  {
   "cell_type": "code",
   "execution_count": 26,
   "id": "56652a0a",
   "metadata": {},
   "outputs": [
    {
     "name": "stderr",
     "output_type": "stream",
     "text": [
      "C:\\Users\\avfrd\\AppData\\Roaming\\Python\\Python311\\site-packages\\IPython\\core\\pylabtools.py:170: UserWarning: Glyph 48712 (\\N{HANGUL SYLLABLE BIN}) missing from font(s) DejaVu Sans.\n",
      "  fig.canvas.print_figure(bytes_io, **kw)\n",
      "C:\\Users\\avfrd\\AppData\\Roaming\\Python\\Python311\\site-packages\\IPython\\core\\pylabtools.py:170: UserWarning: Glyph 46020 (\\N{HANGUL SYLLABLE DO}) missing from font(s) DejaVu Sans.\n",
      "  fig.canvas.print_figure(bytes_io, **kw)\n",
      "C:\\Users\\avfrd\\AppData\\Roaming\\Python\\Python311\\site-packages\\IPython\\core\\pylabtools.py:170: UserWarning: Glyph 49324 (\\N{HANGUL SYLLABLE SA}) missing from font(s) DejaVu Sans.\n",
      "  fig.canvas.print_figure(bytes_io, **kw)\n",
      "C:\\Users\\avfrd\\AppData\\Roaming\\Python\\Python311\\site-packages\\IPython\\core\\pylabtools.py:170: UserWarning: Glyph 54980 (\\N{HANGUL SYLLABLE HU}) missing from font(s) DejaVu Sans.\n",
      "  fig.canvas.print_figure(bytes_io, **kw)\n",
      "C:\\Users\\avfrd\\AppData\\Roaming\\Python\\Python311\\site-packages\\IPython\\core\\pylabtools.py:170: UserWarning: Glyph 51216 (\\N{HANGUL SYLLABLE JEOM}) missing from font(s) DejaVu Sans.\n",
      "  fig.canvas.print_figure(bytes_io, **kw)\n",
      "C:\\Users\\avfrd\\AppData\\Roaming\\Python\\Python311\\site-packages\\IPython\\core\\pylabtools.py:170: UserWarning: Glyph 49688 (\\N{HANGUL SYLLABLE SU}) missing from font(s) DejaVu Sans.\n",
      "  fig.canvas.print_figure(bytes_io, **kw)\n",
      "C:\\Users\\avfrd\\AppData\\Roaming\\Python\\Python311\\site-packages\\IPython\\core\\pylabtools.py:170: UserWarning: Glyph 48516 (\\N{HANGUL SYLLABLE BUN}) missing from font(s) DejaVu Sans.\n",
      "  fig.canvas.print_figure(bytes_io, **kw)\n",
      "C:\\Users\\avfrd\\AppData\\Roaming\\Python\\Python311\\site-packages\\IPython\\core\\pylabtools.py:170: UserWarning: Glyph 54252 (\\N{HANGUL SYLLABLE PO}) missing from font(s) DejaVu Sans.\n",
      "  fig.canvas.print_figure(bytes_io, **kw)\n"
     ]
    },
    {
     "data": {
      "image/png": "[encoded data removed]",
      "text/plain": [
       "<Figure size 640x480 with 1 Axes>"
      ]
     },
     "metadata": {},
     "output_type": "display_data"
    },
    {
     "data": {
      "image/png": "[encoded data removed]",
      "text/plain": [
       "<Figure size 640x480 with 1 Axes>"
      ]
     },
     "metadata": {},
     "output_type": "display_data"
    }
   ],
   "source": [
    "\n",
    "# 사후 점수(post) 분포를 집단별로 그려봅니다.\n",
    "import matplotlib.pyplot as plt\n",
    "\n",
    "for g in df_imp['group'].unique():\n",
    "    x = df_imp.loc[df_imp['group']==g, 'post']\n",
    "    plt.figure()\n",
    "    plt.hist(x.dropna(), bins=20)  # 색상은 지정하지 않습니다.\n",
    "    plt.title(f'사후 점수 분포: {g}')\n",
    "    plt.xlabel('post')\n",
    "    plt.ylabel('빈도')\n",
    "    plt.show()\n"
   ]
  },
  {
   "cell_type": "markdown",
   "id": "7529e209",
   "metadata": {},
   "source": [
    "## 5. 가설 검정을 위한 기본 점검(정규성, 등분산성)"
   ]
  },
  {
   "cell_type": "code",
   "execution_count": 27,
   "id": "080c72f9",
   "metadata": {},
   "outputs": [
    {
     "name": "stdout",
     "output_type": "stream",
     "text": [
      "treat Shapiro-Wilk W= 0.984 p= 0.276\n",
      "control Shapiro-Wilk W= 0.991 p= 0.553\n",
      "Levene W= 0.191 p= 0.662\n"
     ]
    }
   ],
   "source": [
    "\n",
    "from scipy import stats\n",
    "\n",
    "# 집단별 정규성 간단 점검(Shapiro-Wilk)\n",
    "for g in df_imp['group'].unique():\n",
    "    w, p = stats.shapiro(df_imp.loc[df_imp['group']==g, 'post'])\n",
    "    print(g, 'Shapiro-Wilk W=', round(w,3), 'p=', round(p,3))\n",
    "\n",
    "# 등분산성 점검(Levene)\n",
    "control = df_imp.loc[df_imp['group']=='control', 'post']\n",
    "treat   = df_imp.loc[df_imp['group']=='treat',   'post']\n",
    "w_stat, p_levene = stats.levene(control, treat, center='median')\n",
    "print('Levene W=', round(w_stat,3), 'p=', round(p_levene,3))\n"
   ]
  },
  {
   "cell_type": "markdown",
   "id": "bf0aa348",
   "metadata": {},
   "source": [
    "## 6. 가설 검정"
   ]
  },
  {
   "cell_type": "code",
   "execution_count": 28,
   "id": "8a292d9f",
   "metadata": {},
   "outputs": [
    {
     "data": {
      "text/plain": [
       "TtestResult(statistic=3.1864681529572456, pvalue=0.0016565145024937263, df=213.02013368360764)"
      ]
     },
     "execution_count": 28,
     "metadata": {},
     "output_type": "execute_result"
    }
   ],
   "source": [
    "\n",
    "# 6-1. 독립표본 t-검정: 두 집단의 사후 점수 평균 비교\n",
    "from scipy import stats\n",
    "tres = stats.ttest_ind(treat, control, equal_var=False, nan_policy='omit')\n",
    "tres  # statistic, pvalue\n"
   ]
  },
  {
   "cell_type": "code",
   "execution_count": 29,
   "id": "943ada18",
   "metadata": {},
   "outputs": [
    {
     "data": {
      "text/plain": [
       "TtestResult(statistic=11.263723224999694, pvalue=6.913962843830687e-24, df=239)"
      ]
     },
     "execution_count": 29,
     "metadata": {},
     "output_type": "execute_result"
    }
   ],
   "source": [
    "\n",
    "# 6-2. 대응 t-검정: 같은 사람이 pre와 post에서 얼마나 올랐는지 확인\n",
    "paired = stats.ttest_rel(df_imp['post'], df_imp['pre'])\n",
    "paired  # statistic, pvalue\n"
   ]
  },
  {
   "cell_type": "code",
   "execution_count": 30,
   "id": "e70a5a15",
   "metadata": {},
   "outputs": [
    {
     "data": {
      "text/plain": [
       "(group   control  treat\n",
       " passed                \n",
       " 0           106     61\n",
       " 1            34     39,\n",
       " (5.292335094976386, 0.021419480725166164, 1))"
      ]
     },
     "execution_count": 30,
     "metadata": {},
     "output_type": "execute_result"
    }
   ],
   "source": [
    "\n",
    "# 6-3. 카이제곱 검정: 합격률(passed)이 집단에 따라 다른가?\n",
    "ct = pd.crosstab(df_imp['passed'], df_imp['group'])\n",
    "chi2, p, dof, exp = stats.chi2_contingency(ct)\n",
    "ct, (chi2, p, dof)\n"
   ]
  },
  {
   "cell_type": "code",
   "execution_count": 31,
   "id": "8593954e",
   "metadata": {},
   "outputs": [
    {
     "data": {
      "text/plain": [
       "(1.2534733668508478, 0.2640187181607438)"
      ]
     },
     "execution_count": 31,
     "metadata": {},
     "output_type": "execute_result"
    }
   ],
   "source": [
    "\n",
    "# 6-4. 일원분산분석(ANOVA): 성별에 따라 post 평균이 다른가?\n",
    "F, p_anova = stats.f_oneway(*(df_imp.loc[df_imp['sex']==s, 'post'] for s in df_imp['sex'].unique()))\n",
    "F, p_anova\n"
   ]
  },
  {
   "cell_type": "markdown",
   "id": "26daa3fa",
   "metadata": {},
   "source": [
    "## 7. 회귀 분석(설명 변수 여러 개)"
   ]
  },
  {
   "cell_type": "code",
   "execution_count": 32,
   "id": "b569a5bd",
   "metadata": {},
   "outputs": [
    {
     "data": {
      "text/html": [
       "<table class=\"simpletable\">\n",
       "<caption>OLS Regression Results</caption>\n",
       "<tr>\n",
       "  <th>Dep. Variable:</th>          <td>post</td>       <th>  R-squared:         </th> <td>   0.675</td>\n",
       "</tr>\n",
       "<tr>\n",
       "  <th>Model:</th>                   <td>OLS</td>       <th>  Adj. R-squared:    </th> <td>   0.670</td>\n",
       "</tr>\n",
       "<tr>\n",
       "  <th>Method:</th>             <td>Least Squares</td>  <th>  F-statistic:       </th> <td>   122.2</td>\n",
       "</tr>\n",
       "<tr>\n",
       "  <th>Date:</th>             <td>Tue, 30 Sep 2025</td> <th>  Prob (F-statistic):</th> <td>3.07e-56</td>\n",
       "</tr>\n",
       "<tr>\n",
       "  <th>Time:</th>                 <td>00:49:43</td>     <th>  Log-Likelihood:    </th> <td> -789.95</td>\n",
       "</tr>\n",
       "<tr>\n",
       "  <th>No. Observations:</th>      <td>   240</td>      <th>  AIC:               </th> <td>   1590.</td>\n",
       "</tr>\n",
       "<tr>\n",
       "  <th>Df Residuals:</th>          <td>   235</td>      <th>  BIC:               </th> <td>   1607.</td>\n",
       "</tr>\n",
       "<tr>\n",
       "  <th>Df Model:</th>              <td>     4</td>      <th>                     </th>     <td> </td>   \n",
       "</tr>\n",
       "<tr>\n",
       "  <th>Covariance Type:</th>      <td>nonrobust</td>    <th>                     </th>     <td> </td>   \n",
       "</tr>\n",
       "</table>\n",
       "<table class=\"simpletable\">\n",
       "<tr>\n",
       "          <td></td>             <th>coef</th>     <th>std err</th>      <th>t</th>      <th>P>|t|</th>  <th>[0.025</th>    <th>0.975]</th>  \n",
       "</tr>\n",
       "<tr>\n",
       "  <th>Intercept</th>         <td>    5.9969</td> <td>    3.722</td> <td>    1.611</td> <td> 0.109</td> <td>   -1.337</td> <td>   13.330</td>\n",
       "</tr>\n",
       "<tr>\n",
       "  <th>C(group)[T.treat]</th> <td>    4.3568</td> <td>    0.861</td> <td>    5.058</td> <td> 0.000</td> <td>    2.660</td> <td>    6.054</td>\n",
       "</tr>\n",
       "<tr>\n",
       "  <th>C(sex)[T.M]</th>       <td>    0.1041</td> <td>    0.853</td> <td>    0.122</td> <td> 0.903</td> <td>   -1.577</td> <td>    1.785</td>\n",
       "</tr>\n",
       "<tr>\n",
       "  <th>pre</th>               <td>    0.9772</td> <td>    0.046</td> <td>   21.292</td> <td> 0.000</td> <td>    0.887</td> <td>    1.068</td>\n",
       "</tr>\n",
       "<tr>\n",
       "  <th>age</th>               <td>   -0.0572</td> <td>    0.103</td> <td>   -0.557</td> <td> 0.578</td> <td>   -0.259</td> <td>    0.145</td>\n",
       "</tr>\n",
       "</table>\n",
       "<table class=\"simpletable\">\n",
       "<tr>\n",
       "  <th>Omnibus:</th>       <td> 7.047</td> <th>  Durbin-Watson:     </th> <td>   1.958</td>\n",
       "</tr>\n",
       "<tr>\n",
       "  <th>Prob(Omnibus):</th> <td> 0.029</td> <th>  Jarque-Bera (JB):  </th> <td>   8.218</td>\n",
       "</tr>\n",
       "<tr>\n",
       "  <th>Skew:</th>          <td>-0.261</td> <th>  Prob(JB):          </th> <td>  0.0164</td>\n",
       "</tr>\n",
       "<tr>\n",
       "  <th>Kurtosis:</th>      <td> 3.742</td> <th>  Cond. No.          </th> <td>    578.</td>\n",
       "</tr>\n",
       "</table><br/><br/>Notes:<br/>[1] Standard Errors assume that the covariance matrix of the errors is correctly specified."
      ],
      "text/latex": [
       "\\begin{center}\n",
       "\\begin{tabular}{lclc}\n",
       "\\toprule\n",
       "\\textbf{Dep. Variable:}    &       post       & \\textbf{  R-squared:         } &     0.675   \\\\\n",
       "\\textbf{Model:}            &       OLS        & \\textbf{  Adj. R-squared:    } &     0.670   \\\\\n",
       "\\textbf{Method:}           &  Least Squares   & \\textbf{  F-statistic:       } &     122.2   \\\\\n",
       "\\textbf{Date:}             & Tue, 30 Sep 2025 & \\textbf{  Prob (F-statistic):} &  3.07e-56   \\\\\n",
       "\\textbf{Time:}             &     00:49:43     & \\textbf{  Log-Likelihood:    } &   -789.95   \\\\\n",
       "\\textbf{No. Observations:} &         240      & \\textbf{  AIC:               } &     1590.   \\\\\n",
       "\\textbf{Df Residuals:}     &         235      & \\textbf{  BIC:               } &     1607.   \\\\\n",
       "\\textbf{Df Model:}         &           4      & \\textbf{                     } &             \\\\\n",
       "\\textbf{Covariance Type:}  &    nonrobust     & \\textbf{                     } &             \\\\\n",
       "\\bottomrule\n",
       "\\end{tabular}\n",
       "\\begin{tabular}{lcccccc}\n",
       "                           & \\textbf{coef} & \\textbf{std err} & \\textbf{t} & \\textbf{P$> |$t$|$} & \\textbf{[0.025} & \\textbf{0.975]}  \\\\\n",
       "\\midrule\n",
       "\\textbf{Intercept}         &       5.9969  &        3.722     &     1.611  &         0.109        &       -1.337    &       13.330     \\\\\n",
       "\\textbf{C(group)[T.treat]} &       4.3568  &        0.861     &     5.058  &         0.000        &        2.660    &        6.054     \\\\\n",
       "\\textbf{C(sex)[T.M]}       &       0.1041  &        0.853     &     0.122  &         0.903        &       -1.577    &        1.785     \\\\\n",
       "\\textbf{pre}               &       0.9772  &        0.046     &    21.292  &         0.000        &        0.887    &        1.068     \\\\\n",
       "\\textbf{age}               &      -0.0572  &        0.103     &    -0.557  &         0.578        &       -0.259    &        0.145     \\\\\n",
       "\\bottomrule\n",
       "\\end{tabular}\n",
       "\\begin{tabular}{lclc}\n",
       "\\textbf{Omnibus:}       &  7.047 & \\textbf{  Durbin-Watson:     } &    1.958  \\\\\n",
       "\\textbf{Prob(Omnibus):} &  0.029 & \\textbf{  Jarque-Bera (JB):  } &    8.218  \\\\\n",
       "\\textbf{Skew:}          & -0.261 & \\textbf{  Prob(JB):          } &   0.0164  \\\\\n",
       "\\textbf{Kurtosis:}      &  3.742 & \\textbf{  Cond. No.          } &     578.  \\\\\n",
       "\\bottomrule\n",
       "\\end{tabular}\n",
       "%\\caption{OLS Regression Results}\n",
       "\\end{center}\n",
       "\n",
       "Notes: \\newline\n",
       " [1] Standard Errors assume that the covariance matrix of the errors is correctly specified."
      ],
      "text/plain": [
       "<class 'statsmodels.iolib.summary.Summary'>\n",
       "\"\"\"\n",
       "                            OLS Regression Results                            \n",
       "==============================================================================\n",
       "Dep. Variable:                   post   R-squared:                       0.675\n",
       "Model:                            OLS   Adj. R-squared:                  0.670\n",
       "Method:                 Least Squares   F-statistic:                     122.2\n",
       "Date:                Tue, 30 Sep 2025   Prob (F-statistic):           3.07e-56\n",
       "Time:                        00:49:43   Log-Likelihood:                -789.95\n",
       "No. Observations:                 240   AIC:                             1590.\n",
       "Df Residuals:                     235   BIC:                             1607.\n",
       "Df Model:                           4                                         \n",
       "Covariance Type:            nonrobust                                         \n",
       "=====================================================================================\n",
       "                        coef    std err          t      P>|t|      [0.025      0.975]\n",
       "-------------------------------------------------------------------------------------\n",
       "Intercept             5.9969      3.722      1.611      0.109      -1.337      13.330\n",
       "C(group)[T.treat]     4.3568      0.861      5.058      0.000       2.660       6.054\n",
       "C(sex)[T.M]           0.1041      0.853      0.122      0.903      -1.577       1.785\n",
       "pre                   0.9772      0.046     21.292      0.000       0.887       1.068\n",
       "age                  -0.0572      0.103     -0.557      0.578      -0.259       0.145\n",
       "==============================================================================\n",
       "Omnibus:                        7.047   Durbin-Watson:                   1.958\n",
       "Prob(Omnibus):                  0.029   Jarque-Bera (JB):                8.218\n",
       "Skew:                          -0.261   Prob(JB):                       0.0164\n",
       "Kurtosis:                       3.742   Cond. No.                         578.\n",
       "==============================================================================\n",
       "\n",
       "Notes:\n",
       "[1] Standard Errors assume that the covariance matrix of the errors is correctly specified.\n",
       "\"\"\""
      ]
     },
     "execution_count": 32,
     "metadata": {},
     "output_type": "execute_result"
    }
   ],
   "source": [
    "\n",
    "# OLS 회귀: post ~ group + pre + age + sex\n",
    "import statsmodels.api as sm\n",
    "import statsmodels.formula.api as smf\n",
    "\n",
    "model = smf.ols('post ~ C(group) + pre + age + C(sex)', data=df_imp).fit()\n",
    "model.summary()\n"
   ]
  },
  {
   "cell_type": "code",
   "execution_count": 33,
   "id": "c70a3997",
   "metadata": {},
   "outputs": [
    {
     "data": {
      "text/html": [
       "<table class=\"simpletable\">\n",
       "<caption>OLS Regression Results</caption>\n",
       "<tr>\n",
       "  <th>Dep. Variable:</th>          <td>post</td>       <th>  R-squared:         </th> <td>   0.676</td>\n",
       "</tr>\n",
       "<tr>\n",
       "  <th>Model:</th>                   <td>OLS</td>       <th>  Adj. R-squared:    </th> <td>   0.669</td>\n",
       "</tr>\n",
       "<tr>\n",
       "  <th>Method:</th>             <td>Least Squares</td>  <th>  F-statistic:       </th> <td>   97.71</td>\n",
       "</tr>\n",
       "<tr>\n",
       "  <th>Date:</th>             <td>Tue, 30 Sep 2025</td> <th>  Prob (F-statistic):</th> <td>2.79e-55</td>\n",
       "</tr>\n",
       "<tr>\n",
       "  <th>Time:</th>                 <td>00:49:43</td>     <th>  Log-Likelihood:    </th> <td> -789.68</td>\n",
       "</tr>\n",
       "<tr>\n",
       "  <th>No. Observations:</th>      <td>   240</td>      <th>  AIC:               </th> <td>   1591.</td>\n",
       "</tr>\n",
       "<tr>\n",
       "  <th>Df Residuals:</th>          <td>   234</td>      <th>  BIC:               </th> <td>   1612.</td>\n",
       "</tr>\n",
       "<tr>\n",
       "  <th>Df Model:</th>              <td>     5</td>      <th>                     </th>     <td> </td>   \n",
       "</tr>\n",
       "<tr>\n",
       "  <th>Covariance Type:</th>      <td>nonrobust</td>    <th>                     </th>     <td> </td>   \n",
       "</tr>\n",
       "</table>\n",
       "<table class=\"simpletable\">\n",
       "<tr>\n",
       "                <td></td>                   <th>coef</th>     <th>std err</th>      <th>t</th>      <th>P>|t|</th>  <th>[0.025</th>    <th>0.975]</th>  \n",
       "</tr>\n",
       "<tr>\n",
       "  <th>Intercept</th>                     <td>    6.3377</td> <td>    3.756</td> <td>    1.688</td> <td> 0.093</td> <td>   -1.061</td> <td>   13.737</td>\n",
       "</tr>\n",
       "<tr>\n",
       "  <th>C(group)[T.treat]</th>             <td>    3.7596</td> <td>    1.192</td> <td>    3.155</td> <td> 0.002</td> <td>    1.412</td> <td>    6.107</td>\n",
       "</tr>\n",
       "<tr>\n",
       "  <th>C(sex)[T.M]</th>                   <td>   -0.4204</td> <td>    1.119</td> <td>   -0.376</td> <td> 0.707</td> <td>   -2.624</td> <td>    1.784</td>\n",
       "</tr>\n",
       "<tr>\n",
       "  <th>C(group)[T.treat]:C(sex)[T.M]</th> <td>    1.2540</td> <td>    1.727</td> <td>    0.726</td> <td> 0.469</td> <td>   -2.149</td> <td>    4.657</td>\n",
       "</tr>\n",
       "<tr>\n",
       "  <th>pre</th>                           <td>    0.9755</td> <td>    0.046</td> <td>   21.211</td> <td> 0.000</td> <td>    0.885</td> <td>    1.066</td>\n",
       "</tr>\n",
       "<tr>\n",
       "  <th>age</th>                           <td>   -0.0568</td> <td>    0.103</td> <td>   -0.553</td> <td> 0.581</td> <td>   -0.259</td> <td>    0.146</td>\n",
       "</tr>\n",
       "</table>\n",
       "<table class=\"simpletable\">\n",
       "<tr>\n",
       "  <th>Omnibus:</th>       <td> 7.346</td> <th>  Durbin-Watson:     </th> <td>   1.958</td>\n",
       "</tr>\n",
       "<tr>\n",
       "  <th>Prob(Omnibus):</th> <td> 0.025</td> <th>  Jarque-Bera (JB):  </th> <td>   8.657</td>\n",
       "</tr>\n",
       "<tr>\n",
       "  <th>Skew:</th>          <td>-0.268</td> <th>  Prob(JB):          </th> <td>  0.0132</td>\n",
       "</tr>\n",
       "<tr>\n",
       "  <th>Kurtosis:</th>      <td> 3.761</td> <th>  Cond. No.          </th> <td>    585.</td>\n",
       "</tr>\n",
       "</table><br/><br/>Notes:<br/>[1] Standard Errors assume that the covariance matrix of the errors is correctly specified."
      ],
      "text/latex": [
       "\\begin{center}\n",
       "\\begin{tabular}{lclc}\n",
       "\\toprule\n",
       "\\textbf{Dep. Variable:}                &       post       & \\textbf{  R-squared:         } &     0.676   \\\\\n",
       "\\textbf{Model:}                        &       OLS        & \\textbf{  Adj. R-squared:    } &     0.669   \\\\\n",
       "\\textbf{Method:}                       &  Least Squares   & \\textbf{  F-statistic:       } &     97.71   \\\\\n",
       "\\textbf{Date:}                         & Tue, 30 Sep 2025 & \\textbf{  Prob (F-statistic):} &  2.79e-55   \\\\\n",
       "\\textbf{Time:}                         &     00:49:43     & \\textbf{  Log-Likelihood:    } &   -789.68   \\\\\n",
       "\\textbf{No. Observations:}             &         240      & \\textbf{  AIC:               } &     1591.   \\\\\n",
       "\\textbf{Df Residuals:}                 &         234      & \\textbf{  BIC:               } &     1612.   \\\\\n",
       "\\textbf{Df Model:}                     &           5      & \\textbf{                     } &             \\\\\n",
       "\\textbf{Covariance Type:}              &    nonrobust     & \\textbf{                     } &             \\\\\n",
       "\\bottomrule\n",
       "\\end{tabular}\n",
       "\\begin{tabular}{lcccccc}\n",
       "                                       & \\textbf{coef} & \\textbf{std err} & \\textbf{t} & \\textbf{P$> |$t$|$} & \\textbf{[0.025} & \\textbf{0.975]}  \\\\\n",
       "\\midrule\n",
       "\\textbf{Intercept}                     &       6.3377  &        3.756     &     1.688  &         0.093        &       -1.061    &       13.737     \\\\\n",
       "\\textbf{C(group)[T.treat]}             &       3.7596  &        1.192     &     3.155  &         0.002        &        1.412    &        6.107     \\\\\n",
       "\\textbf{C(sex)[T.M]}                   &      -0.4204  &        1.119     &    -0.376  &         0.707        &       -2.624    &        1.784     \\\\\n",
       "\\textbf{C(group)[T.treat]:C(sex)[T.M]} &       1.2540  &        1.727     &     0.726  &         0.469        &       -2.149    &        4.657     \\\\\n",
       "\\textbf{pre}                           &       0.9755  &        0.046     &    21.211  &         0.000        &        0.885    &        1.066     \\\\\n",
       "\\textbf{age}                           &      -0.0568  &        0.103     &    -0.553  &         0.581        &       -0.259    &        0.146     \\\\\n",
       "\\bottomrule\n",
       "\\end{tabular}\n",
       "\\begin{tabular}{lclc}\n",
       "\\textbf{Omnibus:}       &  7.346 & \\textbf{  Durbin-Watson:     } &    1.958  \\\\\n",
       "\\textbf{Prob(Omnibus):} &  0.025 & \\textbf{  Jarque-Bera (JB):  } &    8.657  \\\\\n",
       "\\textbf{Skew:}          & -0.268 & \\textbf{  Prob(JB):          } &   0.0132  \\\\\n",
       "\\textbf{Kurtosis:}      &  3.761 & \\textbf{  Cond. No.          } &     585.  \\\\\n",
       "\\bottomrule\n",
       "\\end{tabular}\n",
       "%\\caption{OLS Regression Results}\n",
       "\\end{center}\n",
       "\n",
       "Notes: \\newline\n",
       " [1] Standard Errors assume that the covariance matrix of the errors is correctly specified."
      ],
      "text/plain": [
       "<class 'statsmodels.iolib.summary.Summary'>\n",
       "\"\"\"\n",
       "                            OLS Regression Results                            \n",
       "==============================================================================\n",
       "Dep. Variable:                   post   R-squared:                       0.676\n",
       "Model:                            OLS   Adj. R-squared:                  0.669\n",
       "Method:                 Least Squares   F-statistic:                     97.71\n",
       "Date:                Tue, 30 Sep 2025   Prob (F-statistic):           2.79e-55\n",
       "Time:                        00:49:43   Log-Likelihood:                -789.68\n",
       "No. Observations:                 240   AIC:                             1591.\n",
       "Df Residuals:                     234   BIC:                             1612.\n",
       "Df Model:                           5                                         \n",
       "Covariance Type:            nonrobust                                         \n",
       "=================================================================================================\n",
       "                                    coef    std err          t      P>|t|      [0.025      0.975]\n",
       "-------------------------------------------------------------------------------------------------\n",
       "Intercept                         6.3377      3.756      1.688      0.093      -1.061      13.737\n",
       "C(group)[T.treat]                 3.7596      1.192      3.155      0.002       1.412       6.107\n",
       "C(sex)[T.M]                      -0.4204      1.119     -0.376      0.707      -2.624       1.784\n",
       "C(group)[T.treat]:C(sex)[T.M]     1.2540      1.727      0.726      0.469      -2.149       4.657\n",
       "pre                               0.9755      0.046     21.211      0.000       0.885       1.066\n",
       "age                              -0.0568      0.103     -0.553      0.581      -0.259       0.146\n",
       "==============================================================================\n",
       "Omnibus:                        7.346   Durbin-Watson:                   1.958\n",
       "Prob(Omnibus):                  0.025   Jarque-Bera (JB):                8.657\n",
       "Skew:                          -0.268   Prob(JB):                       0.0132\n",
       "Kurtosis:                       3.761   Cond. No.                         585.\n",
       "==============================================================================\n",
       "\n",
       "Notes:\n",
       "[1] Standard Errors assume that the covariance matrix of the errors is correctly specified.\n",
       "\"\"\""
      ]
     },
     "execution_count": 33,
     "metadata": {},
     "output_type": "execute_result"
    }
   ],
   "source": [
    "\n",
    "# 상호작용 고려: group*sex\n",
    "model_int = smf.ols('post ~ C(group)*C(sex) + pre + age', data=df_imp).fit()\n",
    "model_int.summary()\n"
   ]
  },
  {
   "cell_type": "code",
   "execution_count": 34,
   "id": "5b6969a8",
   "metadata": {},
   "outputs": [
    {
     "data": {
      "text/html": [
       "<table class=\"simpletable\">\n",
       "<caption>Logit Regression Results</caption>\n",
       "<tr>\n",
       "  <th>Dep. Variable:</th>        <td>passed</td>      <th>  No. Observations:  </th>  <td>   240</td>  \n",
       "</tr>\n",
       "<tr>\n",
       "  <th>Model:</th>                 <td>Logit</td>      <th>  Df Residuals:      </th>  <td>   235</td>  \n",
       "</tr>\n",
       "<tr>\n",
       "  <th>Method:</th>                 <td>MLE</td>       <th>  Df Model:          </th>  <td>     4</td>  \n",
       "</tr>\n",
       "<tr>\n",
       "  <th>Date:</th>            <td>Tue, 30 Sep 2025</td> <th>  Pseudo R-squ.:     </th>  <td>0.4893</td>  \n",
       "</tr>\n",
       "<tr>\n",
       "  <th>Time:</th>                <td>00:49:43</td>     <th>  Log-Likelihood:    </th> <td> -75.299</td> \n",
       "</tr>\n",
       "<tr>\n",
       "  <th>converged:</th>             <td>True</td>       <th>  LL-Null:           </th> <td> -147.44</td> \n",
       "</tr>\n",
       "<tr>\n",
       "  <th>Covariance Type:</th>     <td>nonrobust</td>    <th>  LLR p-value:       </th> <td>3.401e-30</td>\n",
       "</tr>\n",
       "</table>\n",
       "<table class=\"simpletable\">\n",
       "<tr>\n",
       "          <td></td>             <th>coef</th>     <th>std err</th>      <th>z</th>      <th>P>|z|</th>  <th>[0.025</th>    <th>0.975]</th>  \n",
       "</tr>\n",
       "<tr>\n",
       "  <th>Intercept</th>         <td>  -19.5347</td> <td>    3.001</td> <td>   -6.509</td> <td> 0.000</td> <td>  -25.417</td> <td>  -13.653</td>\n",
       "</tr>\n",
       "<tr>\n",
       "  <th>C(group)[T.treat]</th> <td>    1.2595</td> <td>    0.434</td> <td>    2.902</td> <td> 0.004</td> <td>    0.409</td> <td>    2.110</td>\n",
       "</tr>\n",
       "<tr>\n",
       "  <th>C(sex)[T.M]</th>       <td>   -0.2473</td> <td>    0.420</td> <td>   -0.590</td> <td> 0.556</td> <td>   -1.070</td> <td>    0.575</td>\n",
       "</tr>\n",
       "<tr>\n",
       "  <th>pre</th>               <td>    0.3098</td> <td>    0.043</td> <td>    7.261</td> <td> 0.000</td> <td>    0.226</td> <td>    0.393</td>\n",
       "</tr>\n",
       "<tr>\n",
       "  <th>age</th>               <td>   -0.0439</td> <td>    0.046</td> <td>   -0.950</td> <td> 0.342</td> <td>   -0.134</td> <td>    0.047</td>\n",
       "</tr>\n",
       "</table>"
      ],
      "text/latex": [
       "\\begin{center}\n",
       "\\begin{tabular}{lclc}\n",
       "\\toprule\n",
       "\\textbf{Dep. Variable:}    &      passed      & \\textbf{  No. Observations:  } &      240    \\\\\n",
       "\\textbf{Model:}            &      Logit       & \\textbf{  Df Residuals:      } &      235    \\\\\n",
       "\\textbf{Method:}           &       MLE        & \\textbf{  Df Model:          } &        4    \\\\\n",
       "\\textbf{Date:}             & Tue, 30 Sep 2025 & \\textbf{  Pseudo R-squ.:     } &   0.4893    \\\\\n",
       "\\textbf{Time:}             &     00:49:43     & \\textbf{  Log-Likelihood:    } &   -75.299   \\\\\n",
       "\\textbf{converged:}        &       True       & \\textbf{  LL-Null:           } &   -147.44   \\\\\n",
       "\\textbf{Covariance Type:}  &    nonrobust     & \\textbf{  LLR p-value:       } & 3.401e-30   \\\\\n",
       "\\bottomrule\n",
       "\\end{tabular}\n",
       "\\begin{tabular}{lcccccc}\n",
       "                           & \\textbf{coef} & \\textbf{std err} & \\textbf{z} & \\textbf{P$> |$z$|$} & \\textbf{[0.025} & \\textbf{0.975]}  \\\\\n",
       "\\midrule\n",
       "\\textbf{Intercept}         &     -19.5347  &        3.001     &    -6.509  &         0.000        &      -25.417    &      -13.653     \\\\\n",
       "\\textbf{C(group)[T.treat]} &       1.2595  &        0.434     &     2.902  &         0.004        &        0.409    &        2.110     \\\\\n",
       "\\textbf{C(sex)[T.M]}       &      -0.2473  &        0.420     &    -0.590  &         0.556        &       -1.070    &        0.575     \\\\\n",
       "\\textbf{pre}               &       0.3098  &        0.043     &     7.261  &         0.000        &        0.226    &        0.393     \\\\\n",
       "\\textbf{age}               &      -0.0439  &        0.046     &    -0.950  &         0.342        &       -0.134    &        0.047     \\\\\n",
       "\\bottomrule\n",
       "\\end{tabular}\n",
       "%\\caption{Logit Regression Results}\n",
       "\\end{center}"
      ],
      "text/plain": [
       "<class 'statsmodels.iolib.summary.Summary'>\n",
       "\"\"\"\n",
       "                           Logit Regression Results                           \n",
       "==============================================================================\n",
       "Dep. Variable:                 passed   No. Observations:                  240\n",
       "Model:                          Logit   Df Residuals:                      235\n",
       "Method:                           MLE   Df Model:                            4\n",
       "Date:                Tue, 30 Sep 2025   Pseudo R-squ.:                  0.4893\n",
       "Time:                        00:49:43   Log-Likelihood:                -75.299\n",
       "converged:                       True   LL-Null:                       -147.44\n",
       "Covariance Type:            nonrobust   LLR p-value:                 3.401e-30\n",
       "=====================================================================================\n",
       "                        coef    std err          z      P>|z|      [0.025      0.975]\n",
       "-------------------------------------------------------------------------------------\n",
       "Intercept           -19.5347      3.001     -6.509      0.000     -25.417     -13.653\n",
       "C(group)[T.treat]     1.2595      0.434      2.902      0.004       0.409       2.110\n",
       "C(sex)[T.M]          -0.2473      0.420     -0.590      0.556      -1.070       0.575\n",
       "pre                   0.3098      0.043      7.261      0.000       0.226       0.393\n",
       "age                  -0.0439      0.046     -0.950      0.342      -0.134       0.047\n",
       "=====================================================================================\n",
       "\"\"\""
      ]
     },
     "execution_count": 34,
     "metadata": {},
     "output_type": "execute_result"
    }
   ],
   "source": [
    "\n",
    "# 로지스틱 회귀: 합격 여부(passed) ~ group + pre + age + sex\n",
    "logit = smf.logit('passed ~ C(group) + pre + age + C(sex)', data=df_imp).fit(disp=False)\n",
    "logit.summary()\n"
   ]
  },
  {
   "cell_type": "markdown",
   "id": "fbd268d0",
   "metadata": {},
   "source": [
    "## 8. 효과크기(effect size) 계산"
   ]
  },
  {
   "cell_type": "code",
   "execution_count": 35,
   "id": "4dcdc138",
   "metadata": {},
   "outputs": [
    {
     "data": {
      "text/plain": [
       "0.41741039737006597"
      ]
     },
     "execution_count": 35,
     "metadata": {},
     "output_type": "execute_result"
    }
   ],
   "source": [
    "\n",
    "# Cohen's d: 두 집단 평균 차이의 크기(표준편차 단위)\n",
    "def cohens_d(x, y):\n",
    "    x = pd.Series(x).dropna()\n",
    "    y = pd.Series(y).dropna()\n",
    "    nx, ny = len(x), len(y)\n",
    "    sx, sy = x.std(ddof=1), y.std(ddof=1)\n",
    "    s_pooled = np.sqrt(((nx-1)*sx**2 + (ny-1)*sy**2) / (nx+ny-2))\n",
    "    return (x.mean() - y.mean()) / s_pooled\n",
    "\n",
    "d = cohens_d(df_imp.loc[df_imp['group']=='treat','post'],\n",
    "             df_imp.loc[df_imp['group']=='control','post'])\n",
    "d\n"
   ]
  },
  {
   "cell_type": "markdown",
   "id": "7aaeac36",
   "metadata": {},
   "source": [
    "## 9. 검정력(power) 계산"
   ]
  },
  {
   "cell_type": "code",
   "execution_count": 36,
   "id": "13bcf20a",
   "metadata": {},
   "outputs": [
    {
     "data": {
      "text/plain": [
       "(0.41741039737006597, 0.8878495496607457)"
      ]
     },
     "execution_count": 36,
     "metadata": {},
     "output_type": "execute_result"
    }
   ],
   "source": [
    "\n",
    "from statsmodels.stats.power import TTestIndPower\n",
    "analysis = TTestIndPower()\n",
    "effect = abs(d)\n",
    "n1 = (df_imp['group']=='treat').sum()\n",
    "ratio = (df_imp['group']=='control').sum() / n1\n",
    "power = analysis.power(effect_size=effect, nobs1=n1, ratio=ratio, alpha=0.05, alternative='two-sided')\n",
    "effect, power\n"
   ]
  },
  {
   "cell_type": "markdown",
   "id": "f1a7c65b",
   "metadata": {},
   "source": [
    "## 10. 진단 플롯"
   ]
  },
  {
   "cell_type": "code",
   "execution_count": 37,
   "id": "7ffa72c2",
   "metadata": {},
   "outputs": [
    {
     "name": "stderr",
     "output_type": "stream",
     "text": [
      "C:\\Users\\avfrd\\AppData\\Roaming\\Python\\Python311\\site-packages\\IPython\\core\\pylabtools.py:170: UserWarning: Glyph 51092 (\\N{HANGUL SYLLABLE JAN}) missing from font(s) DejaVu Sans.\n",
      "  fig.canvas.print_figure(bytes_io, **kw)\n",
      "C:\\Users\\avfrd\\AppData\\Roaming\\Python\\Python311\\site-packages\\IPython\\core\\pylabtools.py:170: UserWarning: Glyph 52264 (\\N{HANGUL SYLLABLE CA}) missing from font(s) DejaVu Sans.\n",
      "  fig.canvas.print_figure(bytes_io, **kw)\n",
      "C:\\Users\\avfrd\\AppData\\Roaming\\Python\\Python311\\site-packages\\IPython\\core\\pylabtools.py:170: UserWarning: Glyph 51201 (\\N{HANGUL SYLLABLE JEOG}) missing from font(s) DejaVu Sans.\n",
      "  fig.canvas.print_figure(bytes_io, **kw)\n",
      "C:\\Users\\avfrd\\AppData\\Roaming\\Python\\Python311\\site-packages\\IPython\\core\\pylabtools.py:170: UserWarning: Glyph 54633 (\\N{HANGUL SYLLABLE HAB}) missing from font(s) DejaVu Sans.\n",
      "  fig.canvas.print_figure(bytes_io, **kw)\n",
      "C:\\Users\\avfrd\\AppData\\Roaming\\Python\\Python311\\site-packages\\IPython\\core\\pylabtools.py:170: UserWarning: Glyph 44050 (\\N{HANGUL SYLLABLE GABS}) missing from font(s) DejaVu Sans.\n",
      "  fig.canvas.print_figure(bytes_io, **kw)\n"
     ]
    },
    {
     "data": {
      "image/png": "[encoded data removed]",
      "text/plain": [
       "<Figure size 640x480 with 1 Axes>"
      ]
     },
     "metadata": {},
     "output_type": "display_data"
    },
    {
     "data": {
      "text/plain": [
       "ShapiroResult(statistic=0.9910700180035593, pvalue=0.15004798883885612)"
      ]
     },
     "execution_count": 37,
     "metadata": {},
     "output_type": "execute_result"
    }
   ],
   "source": [
    "\n",
    "# 잔차가 고르게 퍼졌는지 확인(선형회귀 기본 가정 점검)\n",
    "import matplotlib.pyplot as plt\n",
    "resid = model.resid\n",
    "fitted = model.fittedvalues\n",
    "\n",
    "plt.figure()\n",
    "plt.scatter(fitted, resid)\n",
    "plt.axhline(0)\n",
    "plt.title('잔차 vs 적합값')\n",
    "plt.xlabel('적합값'); plt.ylabel('잔차')\n",
    "plt.show()\n",
    "\n",
    "# 잔차의 정규성(Shapiro-Wilk)\n",
    "from scipy.stats import shapiro\n",
    "shapiro(resid)\n"
   ]
  },
  {
   "cell_type": "markdown",
   "id": "f8291bb8",
   "metadata": {},
   "source": [
    "## 11. 비모수 대안"
   ]
  },
  {
   "cell_type": "code",
   "execution_count": 38,
   "id": "8da7621f",
   "metadata": {},
   "outputs": [
    {
     "data": {
      "text/plain": [
       "MannwhitneyuResult(statistic=5379.5, pvalue=0.0022486646246008893)"
      ]
     },
     "execution_count": 38,
     "metadata": {},
     "output_type": "execute_result"
    }
   ],
   "source": [
    "\n",
    "# 정규성 가정이 약할 때 사용하는 방법\n",
    "from scipy import stats\n",
    "stats.mannwhitneyu(control, treat, alternative='two-sided')\n"
   ]
  },
  {
   "cell_type": "markdown",
   "id": "0dcb76fc",
   "metadata": {},
   "source": [
    "## 12. 결과표 만들기 및 저장"
   ]
  },
  {
   "cell_type": "code",
   "execution_count": 39,
   "id": "28df9a24",
   "metadata": {},
   "outputs": [
    {
     "data": {
      "text/html": [
       "<div>\n",
       "<style scoped>\n",
       "    .dataframe tbody tr th:only-of-type {\n",
       "        vertical-align: middle;\n",
       "    }\n",
       "\n",
       "    .dataframe tbody tr th {\n",
       "        vertical-align: top;\n",
       "    }\n",
       "\n",
       "    .dataframe thead tr th {\n",
       "        text-align: left;\n",
       "    }\n",
       "\n",
       "    .dataframe thead tr:last-of-type th {\n",
       "        text-align: right;\n",
       "    }\n",
       "</style>\n",
       "<table border=\"1\" class=\"dataframe\">\n",
       "  <thead>\n",
       "    <tr>\n",
       "      <th></th>\n",
       "      <th colspan=\"3\" halign=\"left\">age</th>\n",
       "      <th colspan=\"3\" halign=\"left\">pre</th>\n",
       "      <th colspan=\"3\" halign=\"left\">post</th>\n",
       "    </tr>\n",
       "    <tr>\n",
       "      <th></th>\n",
       "      <th>count</th>\n",
       "      <th>mean</th>\n",
       "      <th>std</th>\n",
       "      <th>count</th>\n",
       "      <th>mean</th>\n",
       "      <th>std</th>\n",
       "      <th>count</th>\n",
       "      <th>mean</th>\n",
       "      <th>std</th>\n",
       "    </tr>\n",
       "    <tr>\n",
       "      <th>group</th>\n",
       "      <th></th>\n",
       "      <th></th>\n",
       "      <th></th>\n",
       "      <th></th>\n",
       "      <th></th>\n",
       "      <th></th>\n",
       "      <th></th>\n",
       "      <th></th>\n",
       "      <th></th>\n",
       "    </tr>\n",
       "  </thead>\n",
       "  <tbody>\n",
       "    <tr>\n",
       "      <th>control</th>\n",
       "      <td>140</td>\n",
       "      <td>26.24</td>\n",
       "      <td>4.14</td>\n",
       "      <td>140</td>\n",
       "      <td>59.47</td>\n",
       "      <td>8.94</td>\n",
       "      <td>140</td>\n",
       "      <td>62.66</td>\n",
       "      <td>11.21</td>\n",
       "    </tr>\n",
       "    <tr>\n",
       "      <th>treat</th>\n",
       "      <td>100</td>\n",
       "      <td>26.50</td>\n",
       "      <td>4.22</td>\n",
       "      <td>100</td>\n",
       "      <td>59.82</td>\n",
       "      <td>9.95</td>\n",
       "      <td>100</td>\n",
       "      <td>67.35</td>\n",
       "      <td>11.25</td>\n",
       "    </tr>\n",
       "  </tbody>\n",
       "</table>\n",
       "</div>"
      ],
      "text/plain": [
       "          age                pre               post              \n",
       "        count   mean   std count   mean   std count   mean    std\n",
       "group                                                            \n",
       "control   140  26.24  4.14   140  59.47  8.94   140  62.66  11.21\n",
       "treat     100  26.50  4.22   100  59.82  9.95   100  67.35  11.25"
      ]
     },
     "execution_count": 39,
     "metadata": {},
     "output_type": "execute_result"
    }
   ],
   "source": [
    "\n",
    "# 표1: 집단별(age, pre, post) 요약 통계\n",
    "table1 = df_imp.groupby('group')[['age','pre','post']].agg(['count','mean','std']).round(2)\n",
    "table1\n"
   ]
  },
  {
   "cell_type": "code",
   "execution_count": 40,
   "id": "99dd45a6",
   "metadata": {},
   "outputs": [
    {
     "data": {
      "text/html": [
       "<div>\n",
       "<style scoped>\n",
       "    .dataframe tbody tr th:only-of-type {\n",
       "        vertical-align: middle;\n",
       "    }\n",
       "\n",
       "    .dataframe tbody tr th {\n",
       "        vertical-align: top;\n",
       "    }\n",
       "\n",
       "    .dataframe thead th {\n",
       "        text-align: right;\n",
       "    }\n",
       "</style>\n",
       "<table border=\"1\" class=\"dataframe\">\n",
       "  <thead>\n",
       "    <tr style=\"text-align: right;\">\n",
       "      <th></th>\n",
       "      <th>Coef.</th>\n",
       "      <th>Std.Err.</th>\n",
       "      <th>t</th>\n",
       "      <th>P&gt;|t|</th>\n",
       "      <th>[0.025</th>\n",
       "      <th>0.975]</th>\n",
       "    </tr>\n",
       "  </thead>\n",
       "  <tbody>\n",
       "    <tr>\n",
       "      <th>Intercept</th>\n",
       "      <td>5.996931</td>\n",
       "      <td>3.722400</td>\n",
       "      <td>1.611039</td>\n",
       "      <td>1.085135e-01</td>\n",
       "      <td>-1.336606</td>\n",
       "      <td>13.330468</td>\n",
       "    </tr>\n",
       "    <tr>\n",
       "      <th>C(group)[T.treat]</th>\n",
       "      <td>4.356754</td>\n",
       "      <td>0.861275</td>\n",
       "      <td>5.058496</td>\n",
       "      <td>8.515286e-07</td>\n",
       "      <td>2.659948</td>\n",
       "      <td>6.053560</td>\n",
       "    </tr>\n",
       "    <tr>\n",
       "      <th>C(sex)[T.M]</th>\n",
       "      <td>0.104133</td>\n",
       "      <td>0.853371</td>\n",
       "      <td>0.122025</td>\n",
       "      <td>9.029833e-01</td>\n",
       "      <td>-1.577102</td>\n",
       "      <td>1.785368</td>\n",
       "    </tr>\n",
       "    <tr>\n",
       "      <th>pre</th>\n",
       "      <td>0.977161</td>\n",
       "      <td>0.045893</td>\n",
       "      <td>21.292227</td>\n",
       "      <td>9.181279e-57</td>\n",
       "      <td>0.886747</td>\n",
       "      <td>1.067575</td>\n",
       "    </tr>\n",
       "    <tr>\n",
       "      <th>age</th>\n",
       "      <td>-0.057173</td>\n",
       "      <td>0.102580</td>\n",
       "      <td>-0.557345</td>\n",
       "      <td>5.778223e-01</td>\n",
       "      <td>-0.259267</td>\n",
       "      <td>0.144922</td>\n",
       "    </tr>\n",
       "  </tbody>\n",
       "</table>\n",
       "</div>"
      ],
      "text/plain": [
       "                      Coef.  Std.Err.          t         P>|t|    [0.025  \\\n",
       "Intercept          5.996931  3.722400   1.611039  1.085135e-01 -1.336606   \n",
       "C(group)[T.treat]  4.356754  0.861275   5.058496  8.515286e-07  2.659948   \n",
       "C(sex)[T.M]        0.104133  0.853371   0.122025  9.029833e-01 -1.577102   \n",
       "pre                0.977161  0.045893  21.292227  9.181279e-57  0.886747   \n",
       "age               -0.057173  0.102580  -0.557345  5.778223e-01 -0.259267   \n",
       "\n",
       "                      0.975]  \n",
       "Intercept          13.330468  \n",
       "C(group)[T.treat]   6.053560  \n",
       "C(sex)[T.M]         1.785368  \n",
       "pre                 1.067575  \n",
       "age                 0.144922  "
      ]
     },
     "execution_count": 40,
     "metadata": {},
     "output_type": "execute_result"
    }
   ],
   "source": [
    "\n",
    "# 표2: OLS 회귀 계수표\n",
    "ols_tbl = model.summary2().tables[1]\n",
    "ols_tbl\n"
   ]
  },
  {
   "cell_type": "code",
   "execution_count": 43,
   "id": "86a8f11e",
   "metadata": {},
   "outputs": [
    {
     "data": {
      "text/plain": [
       "('table1_descriptives_ko.csv', 'table2_ols_coefs_ko.csv')"
      ]
     },
     "execution_count": 43,
     "metadata": {},
     "output_type": "execute_result"
    }
   ],
   "source": [
    "\n",
    "# CSV로 저장해서 논문/보고서에 붙이기 좋게 만듭니다.\n",
    "table1_path = \"table1_descriptives_ko.csv\"\n",
    "ols_path    = \"table2_ols_coefs_ko.csv\"\n",
    "table1.to_csv(table1_path)\n",
    "ols_tbl.to_csv(ols_path)\n",
    "(table1_path, ols_path)\n"
   ]
  },
  {
   "cell_type": "markdown",
   "id": "a50845e9",
   "metadata": {},
   "source": [
    "## 13. 마무리 정리 글감"
   ]
  },
  {
   "cell_type": "markdown",
   "id": "c89f90c7",
   "metadata": {},
   "source": [
    "\n",
    "- 결과 요약: 처치 집단의 사후 점수가 통제 집단보다 유의하게 높은지 확인.  \n",
    "- 해석: 효과크기 d 값과 신뢰구간을 함께 보고 실질적 차이를 설명.  \n",
    "- 한계: 표본 추출 방법, 결측치 대체, 측정 도구 신뢰도 등.  \n",
    "- 제언: 더 큰 표본, 다양한 집단, 장기 추적 연구.\n"
   ]
  }
 ],
 "metadata": {
  "kernelspec": {
   "display_name": "Python 3",
   "language": "python",
   "name": "python3"
  },
  "language_info": {
   "codemirror_mode": {
    "name": "ipython",
    "version": 3
   },
   "file_extension": ".py",
   "mimetype": "text/x-python",
   "name": "python",
   "nbconvert_exporter": "python",
   "pygments_lexer": "ipython3",
   "version": "3.11.9"
  }
 },
 "nbformat": 4,
 "nbformat_minor": 5
}
